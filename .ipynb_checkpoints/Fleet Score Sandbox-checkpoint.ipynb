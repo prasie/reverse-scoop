{
 "cells": [
  {
   "cell_type": "code",
   "execution_count": 8,
   "id": "d031891c",
   "metadata": {},
   "outputs": [
    {
     "name": "stdout",
     "output_type": "stream",
     "text": [
      "     Site    Vendor  DO        DV        VA         VO         FC\n",
      "0  Site_1  Vendor_1   6  0.412083  1.282058  85.796207  59.212666\n",
      "1  Site_1  Vendor_2   3  0.169982  4.609994  65.240254  36.983140\n",
      "2  Site_2  Vendor_1  10  0.421474  5.692764  65.784122  32.718193\n",
      "3  Site_2  Vendor_2   7  0.333596  1.003894  82.842338  48.551580\n",
      "4  Site_3  Vendor_1   4  0.200007  5.961058  78.595273  41.473860\n",
      "5  Site_3  Vendor_2   6  0.555622  4.087408  66.586633  59.496927\n"
     ]
    },
    {
     "data": {
      "application/vnd.jupyter.widget-view+json": {
       "model_id": "5015956eb1304d87bbeeabe61a5d224b",
       "version_major": 2,
       "version_minor": 0
      },
      "text/plain": [
       "VBox(children=(IntSlider(value=20, description='DO Weight'), IntSlider(value=20, description='DV Weight'), Int…"
      ]
     },
     "metadata": {},
     "output_type": "display_data"
    },
    {
     "data": {
      "application/vnd.jupyter.widget-view+json": {
       "model_id": "cfaab08529f54667a81efd07a4209b42",
       "version_major": 2,
       "version_minor": 0
      },
      "text/plain": [
       "Output()"
      ]
     },
     "metadata": {},
     "output_type": "display_data"
    }
   ],
   "source": [
    "import pandas as pd\n",
    "import numpy as np\n",
    "import ipywidgets as widgets\n",
    "from IPython.display import display\n",
    "\n",
    "# Sample data generation for 3 sites and 2 vendors per site\n",
    "np.random.seed(42)  # For reproducibility\n",
    "data = {\n",
    "    'Site': np.repeat([f'Site_{i+1}' for i in range(3)], 2),\n",
    "    'Vendor': np.tile([f'Vendor_{i+1}' for i in range(2)], 3),\n",
    "    'DO': np.random.randint(0, 11, 6),\n",
    "    'DV': np.random.uniform(0.1, 0.8, 6),\n",
    "    'VA': np.random.uniform(1, 6, 6),\n",
    "    'VO': np.random.uniform(65, 99, 6),\n",
    "    'FC': np.random.uniform(30, 60, 6)\n",
    "}\n",
    "\n",
    "df = pd.DataFrame(data)\n",
    "\n",
    "print(df)\n",
    "\n",
    "# Normalization functions\n",
    "def normalize_do(x):\n",
    "    return 1 - (x / 10)  # Goal is 0, lower is better\n",
    "\n",
    "def normalize_dv(x):\n",
    "    return x / 0.6 if x <= 0.6 else 1  # Goal is 0.6, higher is better\n",
    "\n",
    "def normalize_va(x):\n",
    "    return x / 4 if x <= 4 else 1  # Goal is 4, higher is better\n",
    "\n",
    "def normalize_vo(x):\n",
    "    return x / 95 if x <= 95 else 1  # Goal is 95, higher is better\n",
    "\n",
    "def normalize_fc(x):\n",
    "    return x / 50 if x <= 50 else 1  # Goal is 50, higher is better\n",
    "\n",
    "# Apply normalization\n",
    "df['Normalized_DO'] = df['DO'].apply(normalize_do)\n",
    "df['Normalized_DV'] = df['DV'].apply(normalize_dv)\n",
    "df['Normalized_VA'] = df['VA'].apply(normalize_va)\n",
    "df['Normalized_VO'] = df['VO'].apply(normalize_vo)\n",
    "df['Normalized_FC'] = df['FC'].apply(normalize_fc)\n",
    "\n",
    "# Weights (initially set to 20% each)\n",
    "weights = {\n",
    "    'DO': 0.2,\n",
    "    'DV': 0.2,\n",
    "    'VA': 0.2,\n",
    "    'VO': 0.2,\n",
    "    'FC': 0.2\n",
    "}\n",
    "\n",
    "# Function to calculate total score\n",
    "def calculate_total_score(df, weights):\n",
    "    df['Total_Score'] = (df['Normalized_DO'] * weights['DO'] +\n",
    "                         df['Normalized_DV'] * weights['DV'] +\n",
    "                         df['Normalized_VA'] * weights['VA'] +\n",
    "                         df['Normalized_VO'] * weights['VO'] +\n",
    "                         df['Normalized_FC'] * weights['FC'])\n",
    "    return df\n",
    "\n",
    "# Initial calculation\n",
    "df = calculate_total_score(df, weights)\n",
    "\n",
    "# Interactive widget setup\n",
    "def update_weights(do_weight, dv_weight, va_weight, vo_weight, fc_weight):\n",
    "    new_weights = {\n",
    "        'DO': do_weight / 100,\n",
    "        'DV': dv_weight / 100,\n",
    "        'VA': va_weight / 100,\n",
    "        'VO': vo_weight / 100,\n",
    "        'FC': fc_weight / 100\n",
    "    }\n",
    "    updated_df = calculate_total_score(df.copy(), new_weights)\n",
    "    \n",
    "    # Calculate site scores\n",
    "    site_scores = updated_df.groupby('Site')['Total_Score'].mean().reset_index()\n",
    "    site_scores['Rank'] = site_scores['Total_Score'].rank(ascending=False)\n",
    "    \n",
    "    # Calculate vendor scores\n",
    "    vendor_scores = updated_df[['Site', 'Vendor', 'Total_Score']].copy()\n",
    "    vendor_scores['Rank'] = vendor_scores['Total_Score'].rank(ascending=False)\n",
    "    \n",
    "    display(site_scores.sort_values(by='Rank'))\n",
    "    display(vendor_scores.sort_values(by='Rank'))\n",
    "\n",
    "do_slider = widgets.IntSlider(value=20, min=0, max=100, step=1, description='DO Weight')\n",
    "dv_slider = widgets.IntSlider(value=20, min=0, max=100, step=1, description='DV Weight')\n",
    "va_slider = widgets.IntSlider(value=20, min=0, max=100, step=1, description='VA Weight')\n",
    "vo_slider = widgets.IntSlider(value=20, min=0, max=100, step=1, description='VO Weight')\n",
    "fc_slider = widgets.IntSlider(value=20, min=0, max=100, step=1, description='FC Weight')\n",
    "\n",
    "ui = widgets.VBox([do_slider, dv_slider, va_slider, vo_slider, fc_slider])\n",
    "out = widgets.interactive_output(update_weights, {\n",
    "    'do_weight': do_slider,\n",
    "    'dv_weight': dv_slider,\n",
    "    'va_weight': va_slider,\n",
    "    'vo_weight': vo_slider,\n",
    "    'fc_weight': fc_slider\n",
    "})\n",
    "\n",
    "display(ui, out)\n"
   ]
  },
  {
   "cell_type": "code",
   "execution_count": 9,
   "id": "7a258c87",
   "metadata": {},
   "outputs": [
    {
     "data": {
      "text/plain": [
       "'C:\\\\pras_files\\\\AMZL\\\\data_analysis\\\\Fleet Performance Score'"
      ]
     },
     "execution_count": 9,
     "metadata": {},
     "output_type": "execute_result"
    }
   ],
   "source": [
    "import os\n",
    "\n",
    "os.getcwd()"
   ]
  },
  {
   "cell_type": "code",
   "execution_count": null,
   "id": "5014c98a",
   "metadata": {},
   "outputs": [],
   "source": []
  }
 ],
 "metadata": {
  "kernelspec": {
   "display_name": "Python 3",
   "language": "python",
   "name": "python3"
  },
  "language_info": {
   "codemirror_mode": {
    "name": "ipython",
    "version": 3
   },
   "file_extension": ".py",
   "mimetype": "text/x-python",
   "name": "python",
   "nbconvert_exporter": "python",
   "pygments_lexer": "ipython3",
   "version": "3.8.5"
  }
 },
 "nbformat": 4,
 "nbformat_minor": 5
}
